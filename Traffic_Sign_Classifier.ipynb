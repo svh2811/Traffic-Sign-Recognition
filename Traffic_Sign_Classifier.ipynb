{
 "cells": [
  {
   "cell_type": "markdown",
   "metadata": {},
   "source": [
    "# Traffic Sign Recognition Classifier"
   ]
  },
  {
   "cell_type": "code",
   "execution_count": 1,
   "metadata": {},
   "outputs": [
    {
     "name": "stdout",
     "output_type": "stream",
     "text": [
      "TensorFlow version: 1.9.0-rc0\n",
      "Eager execution: True\n"
     ]
    }
   ],
   "source": [
    "%load_ext autoreload\n",
    "%autoreload 2\n",
    "\n",
    "import tensorflow as tf\n",
    "from tensorflow import keras\n",
    "import tensorflow.contrib.eager as tfe\n",
    "\n",
    "import numpy as np\n",
    "\n",
    "tf.enable_eager_execution()\n",
    "\n",
    "print(\"TensorFlow version: {}\".format(tf.VERSION))\n",
    "print(\"Eager execution: {}\".format(tf.executing_eagerly()))"
   ]
  },
  {
   "cell_type": "markdown",
   "metadata": {},
   "source": [
    "---\n",
    "\n",
    "## The German Traffic Sign Recognition Benchmark [*](http://benchmark.ini.rub.de/?section=gtsrb&subsection=dataset)\n",
    "\n",
    "The below code assumes dataset files are placed in ./data folder and in specific subfolders of ./data\n",
    "\n",
    "A convenience dataset download script `download_dataset.ssh` is included in this project directory, use this script to download the German Traffic Sign dataset."
   ]
  },
  {
   "cell_type": "markdown",
   "metadata": {},
   "source": [
    "---\n",
    "\n",
    "## Step 0: Load The Data\n",
    "\n",
    "`dataset` is a dictionary of dictionary with the following structure\n",
    "<code style=\"background-color: #fff; font-size: 11px; line-height: 3px;\">\n",
    "    dataset = {\n",
    "        'train' : {\n",
    "            'X' : python-list of Image FileName Strings\n",
    "            'y' : python-list of corresponding class name numbers\n",
    "        }\n",
    "        'val' : {\n",
    "            'X' : python-list of Image FileName Strings\n",
    "            'y' : python-list of corresponding class name numbers\n",
    "        }\n",
    "        'test' : {\n",
    "            'X' : python-list of Image FileName Strings\n",
    "            'y' : python-list of corresponding class name numbers\n",
    "        }\n",
    "    }\n",
    "</code>"
   ]
  },
  {
   "cell_type": "code",
   "execution_count": 2,
   "metadata": {},
   "outputs": [],
   "source": [
    "from utils import *\n",
    "\n",
    "_BATCH_SIZE = 32\n",
    "_NUM_CLASS = 43\n",
    "_IMG_SHAPE = (32, 32, 3)\n",
    "\n",
    "init_global_vars(_NUM_CLASS, _IMG_SHAPE, _BATCH_SIZE)\n",
    "\n",
    "dataset = get_traffic_sign_dataset();"
   ]
  },
  {
   "cell_type": "markdown",
   "metadata": {},
   "source": [
    "---\n",
    "\n",
    "## Step 1: Dataset Summary & Exploration"
   ]
  },
  {
   "cell_type": "code",
   "execution_count": 3,
   "metadata": {},
   "outputs": [
    {
     "name": "stdout",
     "output_type": "stream",
     "text": [
      "Number of training   examples = 35288\n",
      "Number of validation examples = 3921\n",
      "Number of testing    examples = 12630\n",
      "\n",
      "\n",
      "Image data shape  = (32, 32, 3)\n",
      "Number of classes = 43\n"
     ]
    }
   ],
   "source": [
    "print(\"Number of training   examples =\", len(dataset[\"train\"][\"X\"]))\n",
    "print(\"Number of validation examples =\", len(dataset[\"val\"][\"X\"]))\n",
    "print(\"Number of testing    examples =\", len(dataset[\"test\"][\"X\"]))\n",
    "\n",
    "print(\"\\n\")\n",
    "print(\"Image data shape  =\", _IMG_SHAPE)\n",
    "print(\"Number of classes =\", _NUM_CLASS)"
   ]
  },
  {
   "cell_type": "code",
   "execution_count": 4,
   "metadata": {},
   "outputs": [
    {
     "name": "stdout",
     "output_type": "stream",
     "text": [
      "000, Speed limit (20km/h)\n",
      "001, Speed limit (30km/h)\n",
      "002, Speed limit (50km/h)\n",
      "003, Speed limit (60km/h)\n",
      "004, Speed limit (70km/h)\n",
      "005, Speed limit (80km/h)\n",
      "006, End of speed limit (80km/h)\n",
      "007, Speed limit (100km/h)\n",
      "008, Speed limit (120km/h)\n",
      "009, No passing\n",
      "010, No passing for vehicles over 3.5 metric tons\n",
      "011, Right-of-way at the next intersection\n",
      "012, Priority road\n",
      "013, Yield\n",
      "014, Stop\n",
      "015, No vehicles\n",
      "016, Vehicles over 3.5 metric tons prohibited\n",
      "017, No entry\n",
      "018, General caution\n",
      "019, Dangerous curve to the left\n",
      "020, Dangerous curve to the right\n",
      "021, Double curve\n",
      "022, Bumpy road\n",
      "023, Slippery road\n",
      "024, Road narrows on the right\n",
      "025, Road work\n",
      "026, Traffic signals\n",
      "027, Pedestrians\n",
      "028, Children crossing\n",
      "029, Bicycles crossing\n",
      "030, Beware of ice/snow\n",
      "031, Wild animals crossing\n",
      "032, End of all speed and passing limits\n",
      "033, Turn right ahead\n",
      "034, Turn left ahead\n",
      "035, Ahead only\n",
      "036, Go straight or right\n",
      "037, Go straight or left\n",
      "038, Keep right\n",
      "039, Keep left\n",
      "040, Roundabout mandatory\n",
      "041, End of no passing\n",
      "042, End of no passing by vehicles over 3.5 metric tons\n"
     ]
    }
   ],
   "source": [
    "class_name_dict = get_class_name_dict()\n",
    "\n",
    "for k, v in class_name_dict.items():\n",
    "    print(\"{:03d}, {:s}\".format(k, v))"
   ]
  },
  {
   "cell_type": "markdown",
   "metadata": {},
   "source": [
    "### Visualization of the dataset"
   ]
  },
  {
   "cell_type": "code",
   "execution_count": 7,
   "metadata": {},
   "outputs": [],
   "source": [
    "%matplotlib inline"
   ]
  },
  {
   "cell_type": "code",
   "execution_count": 8,
   "metadata": {},
   "outputs": [
    {
     "data": {
      "text/plain": [
       "<Figure size 1152x648 with 0 Axes>"
      ]
     },
     "metadata": {},
     "output_type": "display_data"
    },
    {
     "data": {
      "image/png": "[encoded data removed]",
      "text/plain": [
       "<Figure size 1152x648 with 1 Axes>"
      ]
     },
     "metadata": {},
     "output_type": "display_data"
    }
   ],
   "source": [
    "plot_histogram(dataset[\"train\"][\"y\"], 'Frequency of Class Examples in training dataset')"
   ]
  },
  {
   "cell_type": "code",
   "execution_count": null,
   "metadata": {},
   "outputs": [],
   "source": [
    "plot_histogram(dataset[\"val\"][\"y\"], 'Frequency of Class Examples in validation dataset')"
   ]
  },
  {
   "cell_type": "markdown",
   "metadata": {},
   "source": [
    "----\n",
    "\n",
    "## Step 2: Generating Tensorflow Datasets"
   ]
  },
  {
   "cell_type": "markdown",
   "metadata": {},
   "source": [
    "### Pre-process the Data Set\n",
    "\n",
    "### [Normalization](https://en.wikipedia.org/wiki/Normalization_%28image_processing%29)\n",
    "\n",
    "Normalization transforms an n-dimensional grayscale image $I:\\{{\\mathbb  {X}}\\subseteq {\\mathbb  {R}}^{n}\\}\\rightarrow \\{{\\text{Min}},..,{\\text{Max}}\\}$ with intensity values in the range (Min, Max), into a new image $I_{N}:\\{{\\mathbb  {X}}\\subseteq {\\mathbb  {R}}^{n}\\}\\rightarrow \\{{\\text{newMin}},..,{\\text{newMax}}\\}$ with intensity values in the range (newMin, newMax).\n",
    "\n",
    "The linear normalization of a grayscale digital image is performed according to the formula.\n",
    "\n",
    "$I_{N}=(I-{\\text{Min}}){\\frac  {{\\text{newMax}}-{\\text{newMin}}}{{\\text{Max}}-{\\text{Min}}}}+{\\text{newMin}}$"
   ]
  },
  {
   "cell_type": "markdown",
   "metadata": {},
   "source": [
    "`train_dataset`, `val_dataset` and `test_dataset` (created in a later cell) are tf.data objects\n",
    "\n",
    "`repeat()` is used so that tf.data iterator does not run out of training examples or so that iterator behaves like a circular list"
   ]
  },
  {
   "cell_type": "code",
   "execution_count": null,
   "metadata": {
    "scrolled": true
   },
   "outputs": [],
   "source": [
    "train_dataset = covert_to_tf_dataset(dataset[\"train\"])\n",
    "val_dataset = covert_to_tf_dataset(dataset[\"val\"])\n",
    "\n",
    "# next(iter(train_dataset))"
   ]
  },
  {
   "cell_type": "markdown",
   "metadata": {},
   "source": [
    "----\n",
    "\n",
    "## Step 2: LeNet-5 Neural network architecture"
   ]
  },
  {
   "cell_type": "markdown",
   "metadata": {},
   "source": [
    "### Model Architecture"
   ]
  },
  {
   "cell_type": "code",
   "execution_count": null,
   "metadata": {},
   "outputs": [],
   "source": [
    "from tensorflow.keras import Sequential\n",
    "from tensorflow.keras.layers import Conv2D, MaxPooling2D, Dense, Flatten, Input, Dropout\n",
    "from tensorflow.keras.initializers import TruncatedNormal\n",
    "\n",
    "μ = 0.0\n",
    "σ = 0.05\n",
    "\n",
    "'''\n",
    ":::: Defaults ::::\n",
    "      Conv2D: padding='valid', strides=(1, 1), use_bias=True, \n",
    "              bias_initializer='zeros'\n",
    "              \n",
    "MaxPooling2D: pool_size=(2, 2), strides=None, padding='valid'\n",
    "\n",
    "       Dense: use_bias=True, bias_initializer='zeros'\n",
    "'''\n",
    "\n",
    "model = Sequential()\n",
    "\n",
    "# Input doesn't return a layer\n",
    "# if you are using Sequential, you may also skip the Input\n",
    "# and just specify the input_shape for the first Layer.\n",
    "# model.add(Input(shape=(32, 32, 3)))\n",
    "\n",
    "# In: (?, 32, 32, 3) | Out: (?, 28, 28, 6)\n",
    "model.add(Conv2D(6, (5, 5), activation='relu',\n",
    "                 kernel_initializer=TruncatedNormal(mean=μ, stddev=σ),\n",
    "                 name='conv1'))\n",
    "# In: (?, 28, 28, 6) | Out: (?, 14, 14, 6)\n",
    "model.add(MaxPooling2D(strides=(2, 2), name='conv1_max_p'))\n",
    "model.add(Dropout(0.3))\n",
    "\n",
    "# In: (?, 14, 14, 6) | Out: (?, 10, 10, 16)\n",
    "model.add(Conv2D(16, (5, 5), activation='relu',\n",
    "                 kernel_initializer=TruncatedNormal(mean=μ, stddev=σ),\n",
    "                 name='conv2'))\n",
    "# In: (?, 10, 10, 16) | Out: (?, 5, 5, 16)\n",
    "model.add(MaxPooling2D(strides=(2, 2), name='conv2_max_p'))\n",
    "model.add(Dropout(0.3))\n",
    "\n",
    "# In: (?, 5, 5, 16) | Out: (?, 400) {400 = 5*5*16}\n",
    "model.add(Flatten(name='flatten'))\n",
    "\n",
    "# In: (?, 400) | Out: (?, 120)\n",
    "model.add(Dense(120, activation='relu',\n",
    "                kernel_initializer=TruncatedNormal(mean=μ, stddev=σ),\n",
    "                name='fc1'))\n",
    "model.add(Dropout(0.5))\n",
    "\n",
    "# In: (?, 120) | Out: (?, 84)\n",
    "model.add(Dense(84, activation='relu',\n",
    "                kernel_initializer=TruncatedNormal(mean=μ, stddev=σ),\n",
    "                name='fc2'))\n",
    "model.add(Dropout(0.5))\n",
    "\n",
    "# In: (?, 84) | Out: (?, num_classes)\n",
    "model.add(Dense(_NUM_CLASS, activation='softmax',\n",
    "                kernel_initializer=TruncatedNormal(mean=μ, stddev=σ), \n",
    "                name='fc3'))"
   ]
  },
  {
   "cell_type": "markdown",
   "metadata": {},
   "source": [
    "- categorical_crossentropy should be used when labels are one_hot_encoded\n",
    "- sparse_categorical_crossentropy for numbered labels"
   ]
  },
  {
   "cell_type": "code",
   "execution_count": null,
   "metadata": {},
   "outputs": [],
   "source": [
    "model.compile(optimizer=tf.train.AdamOptimizer(3e-4),\n",
    "              loss='categorical_crossentropy',\n",
    "              metrics=['accuracy'])"
   ]
  },
  {
   "cell_type": "markdown",
   "metadata": {},
   "source": [
    "### Train, Validate and Test the Model"
   ]
  },
  {
   "cell_type": "markdown",
   "metadata": {},
   "source": [
    "A validation set can be used to assess how well the model is performing.\n",
    "A low accuracy on the training and validation sets imply underfitting.\n",
    "A high accuracy on the training set but low accuracy on the validation set implies overfitting."
   ]
  },
  {
   "cell_type": "markdown",
   "metadata": {},
   "source": [
    "#### model.fit() and model.evaluate()\n",
    "\n",
    "when using tf.data as input make sure to include steps parameter"
   ]
  },
  {
   "cell_type": "code",
   "execution_count": null,
   "metadata": {},
   "outputs": [],
   "source": [
    "import pickle\n",
    "import os\n",
    "\n",
    "_EPOCHS = 50\n",
    "_LOAD_MODEL = True\n",
    "\n",
    "_MODEL_FILE = \"./model/checkpoints/model_chkpt\"\n",
    "_HISTORY_FILE = \"./model/train_history/train_history_dict.p\"\n",
    "\n",
    "history = None\n",
    "\n",
    "if not _LOAD_MODEL:\n",
    "    historyObj = model.fit(\n",
    "        train_dataset,\n",
    "        steps_per_epoch = len(dataset[\"train\"][\"X\"]) // _BATCH_SIZE,\n",
    "        epochs = _EPOCHS,\n",
    "        validation_data = val_dataset,\n",
    "        validation_steps = len(dataset[\"val\"][\"X\"]) // _BATCH_SIZE,\n",
    "        verbose = 1\n",
    "    )\n",
    "    history = historyObj.history\n",
    "    \n",
    "    os.system(\"spd-say 'Model Trained'\")\n",
    "    \n",
    "    model.summary()\n",
    "    \n",
    "    model.save_weights(_MODEL_FILE)\n",
    "    print(\"Saved model weights to disk\")\n",
    "    \n",
    "    with open(_HISTORY_FILE, 'wb') as f:\n",
    "        pickle.dump(history, f)\n",
    "    print(\"Training history saved\")\n",
    "    \n",
    "else:\n",
    "    model.load_weights(_MODEL_FILE)\n",
    "    print(\"Model weights loaded from disk\")\n",
    "\n",
    "    with open(_HISTORY_FILE, 'rb') as f:\n",
    "        history = pickle.load(f)\n",
    "    print(\"Training history loaded from disk\")\n"
   ]
  },
  {
   "cell_type": "code",
   "execution_count": null,
   "metadata": {},
   "outputs": [],
   "source": [
    "draw_line_graphs(_EPOCHS, history['val_acc'], y1_label = \"Validation Accuracy\",\n",
    "                y2 = history['acc'], y2_label = \"Training Accuracy\",\n",
    "                title = \"Validation Accuracy vs Training Accuracy\",\n",
    "                xlabel = \"Epoch(s)\", ylabel = \"Accuracy\",\n",
    "                legend_loc = \"lower right\")"
   ]
  },
  {
   "cell_type": "code",
   "execution_count": null,
   "metadata": {},
   "outputs": [],
   "source": [
    "draw_line_graphs(_EPOCHS, history['val_loss'], y1_label = \"Validation Loss\",\n",
    "                y2 = history['loss'], y2_label = \"Training Loss\",\n",
    "                title = \"Validation Loss vs Training Loss\",\n",
    "                xlabel = \"Epoch(s)\", ylabel = \"Loss\",\n",
    "                legend_loc = \"upper right\")"
   ]
  },
  {
   "cell_type": "markdown",
   "metadata": {},
   "source": [
    "---\n",
    "\n",
    "## Step 3: Testing the Model\n",
    "\n",
    "[`evaluate()`](https://www.tensorflow.org/api_docs/python/tf/keras/Model#evaluate)"
   ]
  },
  {
   "cell_type": "code",
   "execution_count": null,
   "metadata": {},
   "outputs": [],
   "source": [
    "test_dataset =  covert_to_tf_dataset(dataset[\"test\"], repeat = False)\n",
    "\n",
    "test_loss, test_acc = model.evaluate(test_dataset, \n",
    "                                    steps = len(dataset[\"test\"][\"X\"]) // _BATCH_SIZE,\n",
    "                                    verbose=1,)\n",
    "\n",
    "print('\\n')\n",
    "print('Test set loss:', test_loss)\n",
    "print('Test set accuracy:', test_acc)"
   ]
  },
  {
   "cell_type": "markdown",
   "metadata": {},
   "source": [
    "To get more insight into how our model is working, we downloaded few pictures of German traffic signs from the web and used our model to predict the traffic sign type."
   ]
  },
  {
   "cell_type": "markdown",
   "metadata": {},
   "source": [
    "### Load Dataset"
   ]
  },
  {
   "cell_type": "code",
   "execution_count": null,
   "metadata": {},
   "outputs": [],
   "source": [
    "example_db = get_examples_dataset()\n",
    "example_tf_db = covert_to_tf_dataset(example_db, repeat = False)"
   ]
  },
  {
   "cell_type": "markdown",
   "metadata": {},
   "source": [
    "### Predict the Sign Type for Each Image"
   ]
  },
  {
   "cell_type": "code",
   "execution_count": null,
   "metadata": {
    "scrolled": false
   },
   "outputs": [],
   "source": [
    "predictions = model.predict(example_tf_db, steps = _BATCH_SIZE)\n",
    "print(predictions.shape)"
   ]
  },
  {
   "cell_type": "markdown",
   "metadata": {},
   "source": [
    "## Step 4: Analyzing  Model Performance"
   ]
  },
  {
   "cell_type": "markdown",
   "metadata": {},
   "source": [
    "### Top K Predictions\n",
    "[`tf.nn.top_k`](https://www.tensorflow.org/api_docs/python/tf/nn/top_k)"
   ]
  },
  {
   "cell_type": "code",
   "execution_count": null,
   "metadata": {},
   "outputs": [],
   "source": [
    "top_k = 5\n",
    "probabilities, y_pred = tf.nn.top_k(predictions, k = top_k, sorted = True)\n",
    "probabilities = probabilities.numpy()\n",
    "y_pred = y_pred.numpy()\n",
    "\n",
    "print(y_pred.shape)\n",
    "print(probabilities.shape)"
   ]
  },
  {
   "cell_type": "markdown",
   "metadata": {},
   "source": [
    "<p>Css Styles</p>\n",
    "\n",
    "<style></style>"
   ]
  },
  {
   "cell_type": "markdown",
   "metadata": {},
   "source": [
    "The following cell will generate an HTML table to easily compared the predictions of our model. The last column of the plot shows the bar chart of class confidence, to see full size plot.\n",
    "\n",
    "- Right click on the bar chart\n",
    "- Copy Image Location\n",
    "- Open this Image location in a new browser tab/window\n",
    "\n",
    "OR (If this option is available) Directly open image in new tab/window"
   ]
  },
  {
   "cell_type": "code",
   "execution_count": null,
   "metadata": {
    "scrolled": false
   },
   "outputs": [],
   "source": [
    "from IPython.core.display import display, HTML\n",
    "\n",
    "N, K = probabilities.shape\n",
    "correct_pred_count = 0\n",
    "\n",
    "htmlMarkup = \"<table>\"\n",
    "htmlMarkup += \"<tr>\"\n",
    "htmlMarkup += \"<th>Class#</th>\"\n",
    "htmlMarkup += \"<th>Image</th>\"\n",
    "htmlMarkup += \"<th>Label</th>\"\n",
    "htmlMarkup += \"<th>Model Top {:d} Predictions</th>\".format(top_k)\n",
    "htmlMarkup += \"<th>All Predictions</th>\"\n",
    "htmlMarkup += \"</tr>\"\n",
    "\n",
    "for n in np.arange(N):\n",
    "    correct_pred = False\n",
    "    if y_pred[n][0] == example_db[\"y\"][n]:\n",
    "        correct_pred = True\n",
    "        correct_pred_count = (correct_pred_count + 1)\n",
    "\n",
    "    style = \"style='color: red;'\" if not correct_pred else \"\"\n",
    "    htmlMarkup += \"<tr {}>\".format(style)\n",
    "    htmlMarkup += \"<td>{}</td>\".format(example_db[\"y\"][n])\n",
    "    htmlMarkup += \"<td><img src='{}' height='128' width='128'/></td>\"\\\n",
    "                    .format(example_db[\"X\"][n])\n",
    "    htmlMarkup += \"<td>{}</td>\".format(class_name_dict[example_db[\"y\"][n]])\n",
    "\n",
    "    s = \"\"\n",
    "    for k in np.arange(K):\n",
    "        s += \"<p>{:5.4f}, {} ({})</p>\"\\\n",
    "                .format(probabilities[n][k],\n",
    "                        class_name_dict[y_pred[n][k]],\n",
    "                        y_pred[n][k])\n",
    "    htmlMarkup += \"<td>{}</td>\".format(s)\n",
    "\n",
    "    x = example_db[\"X\"][n].rfind(\"/\")\n",
    "    y = example_db[\"X\"][n].rfind(\".\")\n",
    "    fileName = \"./plots/example-predictions/\" +\\\n",
    "                example_db[\"X\"][n][x + 1 : y] + \".png\"\n",
    "\n",
    "    plot_bar_chart(predictions[n], \"\", \"class num\", \"confidence\", fileName)\n",
    "\n",
    "    htmlMarkup += \"<td><img src='{}' height='128' width='256'/></td>\"\\\n",
    "                    .format(fileName)\n",
    "    htmlMarkup += \"</tr>\"\n",
    "\n",
    "htmlMarkup += \"</table>\"\n",
    "\n",
    "display(HTML(htmlMarkup))\n",
    "\n",
    "print(\"{}/{} correctly classfified with an accuracy of {:5.4f}\"\\\n",
    "    .format(correct_pred_count,\n",
    "           N,\n",
    "           correct_pred_count/N))"
   ]
  },
  {
   "cell_type": "markdown",
   "metadata": {},
   "source": [
    "### Confusion Matrix, Accuracy, Precison and Recall\n",
    "\n",
    "[`tf.nn.top_k`](https://www.tensorflow.org/api_docs/python/tf/nn/top_k)"
   ]
  },
  {
   "cell_type": "code",
   "execution_count": null,
   "metadata": {
    "scrolled": true
   },
   "outputs": [],
   "source": [
    "from sklearn.metrics import confusion_matrix\n",
    "\n",
    "_, y_pred = tf.nn.top_k(predictions, k = 1, sorted = True)\n",
    "y_test = np.array(example_db[\"y\"])\n",
    "\n",
    "y_pred = y_pred.numpy().reshape(-1)\n",
    "\n",
    "print(y_test)\n",
    "print(y_pred)\n",
    "\n",
    "cnf_matrix = confusion_matrix(y_test, y_pred, \n",
    "                              labels = list(class_name_dict.keys()))\n",
    "\n",
    "print(\"cnf_matrix.shape: \", cnf_matrix.shape)\n",
    "\n",
    "plot_confusion_matrix(cnf_matrix, classes = list(class_name_dict.values()),\n",
    "                      title='Confusion matrix, without normalization')\n"
   ]
  },
  {
   "cell_type": "markdown",
   "metadata": {},
   "source": [
    "---\n",
    "\n",
    "## Step 5: Visualize the Neural Network's State with Test Images"
   ]
  },
  {
   "cell_type": "code",
   "execution_count": null,
   "metadata": {},
   "outputs": [],
   "source": [
    "import math\n",
    "\"\"\"\n",
    "activation should be of shape (1, H, W, C)\n",
    "plt_num: used to plot out multiple different weight feature map sets on the same block,\n",
    "        just extend the plt number for each new feature map entry\n",
    "\n",
    "\"\"\"\n",
    "\n",
    "def visualize_conv_layer_out(activation, activation_min = -1, activation_max = -1, plt_num = 1):\n",
    "    _, H, W, C = activation.shape\n",
    "    num_cols = math.floor(84 / H)\n",
    "    num_rows = math.ceil(H / num_cols)\n",
    "    plt.figure(plt_num, figsize=(num_rows, num_cols))\n",
    "\n",
    "    featuremaps = activation.shape[3]\n",
    "    plt.figure(figsize = (20, int(num_rows * H / 4.5))) # (width, height)\n",
    "    \n",
    "    for c in np.arange(C):\n",
    "        # sets the number of feature maps to show on each row and column\n",
    "        plt.subplot(num_rows, num_cols, c + 1)\n",
    "        plt.axis('off')\n",
    "        # displays the feature map number\n",
    "        plt.title('Feature Map ' + str(c))\n",
    "        \n",
    "        if activation_min != -1 & activation_max != -1:\n",
    "            plt.imshow(activation[0,:,:, c],\n",
    "                       interpolation=\"nearest\",\n",
    "                       vmin = activation_min,\n",
    "                       vmax = activation_max,\n",
    "                       cmap = \"gray\")\n",
    "        \n",
    "        elif activation_max != -1:\n",
    "            plt.imshow(activation[0,:,:, c],\n",
    "                       interpolation=\"nearest\",\n",
    "                       vmax = activation_max,\n",
    "                       cmap=\"gray\")\n",
    "        \n",
    "        elif activation_min !=-1:\n",
    "            plt.imshow(activation[0,:,:, c],\n",
    "                       interpolation = \"nearest\",\n",
    "                       vmin = activation_min,\n",
    "                       cmap = \"gray\")\n",
    "        \n",
    "        else:\n",
    "            plt.imshow(activation[0,:,:, c],\n",
    "                       interpolation=\"nearest\",\n",
    "                       cmap = \"gray\")\n",
    "    \n",
    "    plt.show()\n",
    "    plt.close()"
   ]
  },
  {
   "cell_type": "code",
   "execution_count": null,
   "metadata": {
    "scrolled": true
   },
   "outputs": [],
   "source": [
    "# https://keras.io/getting-started/faq/#how-can-i-obtain-the-output-of-an-intermediate-layer\n",
    "\n",
    "def get_intermediate_layer_output(layer_name, x_test):\n",
    "    layer = model.get_layer(name = layer_name)\n",
    "    intermediate_layer_model = keras.Model(inputs = model.input, outputs = layer.output)\n",
    "    return intermediate_layer_model.predict(x_test)"
   ]
  },
  {
   "cell_type": "markdown",
   "metadata": {},
   "source": [
    "#### Plotting Convolution activations of layer `conv1` and layer `conv2`  for  ` N`  random test images"
   ]
  },
  {
   "cell_type": "code",
   "execution_count": null,
   "metadata": {
    "scrolled": false
   },
   "outputs": [],
   "source": [
    "from skimage import io\n",
    "\n",
    "N = 3\n",
    "L = len(dataset[\"test\"][\"y\"])\n",
    "\n",
    "for _ in np.arange(N):\n",
    "    num = np.random.randint(L)\n",
    "    viz_db = {\n",
    "        \"X\" : [],\n",
    "        \"y\" : []\n",
    "    }\n",
    "    viz_db[\"X\"].append(dataset[\"test\"][\"X\"][num])\n",
    "    viz_db[\"y\"].append(dataset[\"test\"][\"y\"][num])\n",
    "    \n",
    "    plt.figure(figsize = (3, 3))\n",
    "    plt.axis('off')\n",
    "    plt.imshow(io.imread(viz_db[\"X\"][0]))\n",
    "    plt.show()\n",
    "    plt.close()\n",
    "    x_test, y_test = next(iter(covert_to_tf_dataset(viz_db, repeat = False)))\n",
    "    \n",
    "    print(\"conv1 visualization\")\n",
    "    visualize_conv_layer_out(get_intermediate_layer_output(\"conv1\", x_test))\n",
    "    \n",
    "    print(\"conv2 visualization\")\n",
    "    visualize_conv_layer_out(get_intermediate_layer_output(\"conv2\", x_test))\n",
    "    \n",
    "    display(HTML(\"<hr style='border: 0;\"\n",
    "                 + \" width: 100%;\" \n",
    "                 + \" color: #f00;\"\n",
    "                 + \" background-color: red;\"\n",
    "                 + \" height: 7px;'/>\"))"
   ]
  },
  {
   "cell_type": "code",
   "execution_count": null,
   "metadata": {},
   "outputs": [],
   "source": []
  }
 ],
 "metadata": {
  "anaconda-cloud": {},
  "kernelspec": {
   "display_name": "Python 3",
   "language": "python",
   "name": "python3"
  },
  "language_info": {
   "codemirror_mode": {
    "name": "ipython",
    "version": 3
   },
   "file_extension": ".py",
   "mimetype": "text/x-python",
   "name": "python",
   "nbconvert_exporter": "python",
   "pygments_lexer": "ipython3",
   "version": "3.6.5"
  }
 },
 "nbformat": 4,
 "nbformat_minor": 1
}
